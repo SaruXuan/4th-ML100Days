{
 "cells": [
  {
   "cell_type": "markdown",
   "metadata": {},
   "source": [
    "## [作業重點]\n",
    "使用 Sklearn 中的線性迴歸模型，來訓練各種資料集，務必了解送進去模型訓練的**資料型態**為何，也請了解模型中各項參數的意義"
   ]
  },
  {
   "cell_type": "markdown",
   "metadata": {},
   "source": [
    "## 作業\n",
    "試著使用 sklearn datasets 的其他資料集 (wine, boston, ...)，來訓練自己的線性迴歸模型。"
   ]
  },
  {
   "cell_type": "markdown",
   "metadata": {},
   "source": [
    "### HINT: 注意 label 的型態，確定資料集的目標是分類還是回歸，在使用正確的模型訓練！"
   ]
  },
  {
   "cell_type": "code",
   "execution_count": 18,
   "metadata": {},
   "outputs": [],
   "source": [
    "import pandas as pd\n",
    "import numpy as np\n",
    "import matplotlib.pyplot as plt\n",
    "from sklearn import datasets, linear_model\n",
    "from sklearn.model_selection import train_test_split\n",
    "from sklearn.metrics import mean_squared_error, r2_score, accuracy_score"
   ]
  },
  {
   "cell_type": "code",
   "execution_count": 31,
   "metadata": {},
   "outputs": [
    {
     "data": {
      "text/plain": [
       "['alcohol',\n",
       " 'malic_acid',\n",
       " 'ash',\n",
       " 'alcalinity_of_ash',\n",
       " 'magnesium',\n",
       " 'total_phenols',\n",
       " 'flavanoids',\n",
       " 'nonflavanoid_phenols',\n",
       " 'proanthocyanins',\n",
       " 'color_intensity',\n",
       " 'hue',\n",
       " 'od280/od315_of_diluted_wines',\n",
       " 'proline']"
      ]
     },
     "execution_count": 31,
     "metadata": {},
     "output_type": "execute_result"
    }
   ],
   "source": [
    "wine = datasets.load_wine()\n",
    "wine_d =wine.data\n",
    "wine_fn = wine.feature_names\n",
    "wine_t = wine.target\n",
    "wine_fn"
   ]
  },
  {
   "cell_type": "code",
   "execution_count": 33,
   "metadata": {},
   "outputs": [],
   "source": [
    "wine_d = pd.DataFrame(wine_d, columns=wine_fn)\n",
    "wine_d = np.array(wine_d.loc[:, ['alcohol', 'ash', 'hue']])\n",
    "X_train, X_test, y_train, y_test = train_test_split(wine_d, wine_t, test_size = 0.1, random_state=11)"
   ]
  },
  {
   "cell_type": "code",
   "execution_count": 34,
   "metadata": {},
   "outputs": [
    {
     "data": {
      "text/plain": [
       "array([[12.25 ,  2.12 ,  1.   ],\n",
       "       [12.16 ,  2.31 ,  1.33 ],\n",
       "       [13.39 ,  2.62 ,  0.92 ],\n",
       "       [14.13 ,  2.74 ,  0.61 ],\n",
       "       [13.82 ,  2.42 ,  1.01 ],\n",
       "       [14.12 ,  2.32 ,  1.17 ],\n",
       "       [13.71 ,  2.36 ,  1.11 ],\n",
       "       [12.21 ,  1.75 ,  1.28 ],\n",
       "       [14.22 ,  2.3  ,  0.94 ],\n",
       "       [12.64 ,  2.02 ,  0.98 ],\n",
       "       [11.41 ,  2.5  ,  1.1  ],\n",
       "       [13.88 ,  2.59 ,  0.88 ],\n",
       "       [12.52 ,  2.17 ,  0.9  ],\n",
       "       [11.79 ,  2.78 ,  0.97 ],\n",
       "       [12.53 ,  2.64 ,  0.82 ],\n",
       "       [11.84 ,  2.23 ,  0.96 ],\n",
       "       [13.08 ,  2.36 ,  0.57 ],\n",
       "       [12.84 ,  2.61 ,  0.89 ],\n",
       "       [13.86 ,  2.27 ,  1.01 ],\n",
       "       [13.56 ,  2.46 ,  0.98 ],\n",
       "       [13.78 ,  2.3  ,  0.7  ],\n",
       "       [13.58 ,  2.69 ,  0.74 ],\n",
       "       [11.03 ,  2.2  ,  1.71 ],\n",
       "       [13.63 ,  2.7  ,  1.28 ],\n",
       "       [13.73 ,  2.7  ,  1.19 ],\n",
       "       [12.99 ,  2.6  ,  1.31 ],\n",
       "       [11.45 ,  2.42 ,  0.8  ],\n",
       "       [14.38 ,  2.28 ,  1.04 ],\n",
       "       [11.82 ,  1.88 ,  0.94 ],\n",
       "       [13.16 ,  2.67 ,  1.03 ],\n",
       "       [14.38 ,  2.38 ,  1.2  ],\n",
       "       [14.16 ,  2.48 ,  0.62 ],\n",
       "       [11.82 ,  1.99 ,  0.95 ],\n",
       "       [13.05 ,  2.32 ,  0.84 ],\n",
       "       [13.48 ,  2.64 ,  0.57 ],\n",
       "       [13.11 ,  1.7  ,  1.12 ],\n",
       "       [11.65 ,  2.62 ,  1.36 ],\n",
       "       [13.88 ,  2.23 ,  0.58 ],\n",
       "       [13.17 ,  2.32 ,  0.6  ],\n",
       "       [12.33 ,  2.28 ,  1.25 ],\n",
       "       [12.86 ,  2.32 ,  0.76 ],\n",
       "       [12.37 ,  2.16 ,  1.22 ],\n",
       "       [11.62 ,  2.28 ,  1.16 ],\n",
       "       [13.74 ,  2.25 ,  0.92 ],\n",
       "       [12.6  ,  1.9  ,  1.04 ],\n",
       "       [12.29 ,  2.21 ,  1.42 ],\n",
       "       [13.75 ,  2.41 ,  1.15 ],\n",
       "       [11.56 ,  3.23 ,  0.93 ],\n",
       "       [13.94 ,  2.27 ,  1.12 ],\n",
       "       [12.17 ,  2.53 ,  1.45 ],\n",
       "       [12.77 ,  1.98 ,  0.7  ],\n",
       "       [12.08 ,  1.7  ,  1.27 ],\n",
       "       [12.45 ,  2.64 ,  0.67 ],\n",
       "       [14.2  ,  2.45 ,  1.05 ],\n",
       "       [13.17 ,  2.37 ,  0.6  ],\n",
       "       [11.64 ,  2.46 ,  1.   ],\n",
       "       [13.72 ,  2.5  ,  0.89 ],\n",
       "       [14.39 ,  2.45 ,  1.02 ],\n",
       "       [13.52 ,  2.72 ,  0.89 ],\n",
       "       [12.58 ,  2.1  ,  0.58 ],\n",
       "       [12.93 ,  2.65 ,  1.03 ],\n",
       "       [13.48 ,  2.41 ,  1.04 ],\n",
       "       [12.22 ,  1.94 ,  0.86 ],\n",
       "       [14.34 ,  2.7  ,  0.57 ],\n",
       "       [13.45 ,  2.6  ,  0.85 ],\n",
       "       [13.67 ,  1.92 ,  1.23 ],\n",
       "       [13.84 ,  2.38 ,  0.57 ],\n",
       "       [12.42 ,  2.73 ,  0.92 ],\n",
       "       [14.06 ,  2.28 ,  1.09 ],\n",
       "       [12.67 ,  2.24 ,  1.23 ],\n",
       "       [12.37 ,  2.56 ,  1.19 ],\n",
       "       [13.29 ,  2.68 ,  1.07 ],\n",
       "       [13.71 ,  2.45 ,  0.64 ],\n",
       "       [13.87 ,  2.8  ,  1.25 ],\n",
       "       [13.24 ,  2.87 ,  1.04 ],\n",
       "       [13.58 ,  2.36 ,  1.09 ],\n",
       "       [13.62 ,  2.35 ,  0.91 ],\n",
       "       [14.22 ,  2.51 ,  0.89 ],\n",
       "       [11.87 ,  2.39 ,  0.75 ],\n",
       "       [12.51 ,  1.98 ,  1.04 ],\n",
       "       [13.05 ,  2.13 ,  0.73 ],\n",
       "       [13.4  ,  2.86 ,  0.67 ],\n",
       "       [13.05 ,  2.04 ,  1.12 ],\n",
       "       [11.84 ,  2.58 ,  0.79 ],\n",
       "       [12.87 ,  2.48 ,  0.54 ],\n",
       "       [12.37 ,  2.3  ,  0.89 ],\n",
       "       [12.25 ,  2.54 ,  0.75 ],\n",
       "       [12.77 ,  2.28 ,  0.57 ],\n",
       "       [11.66 ,  1.92 ,  1.23 ],\n",
       "       [12.42 ,  2.27 ,  0.86 ],\n",
       "       [12.47 ,  2.2  ,  1.16 ],\n",
       "       [12.51 ,  2.25 ,  0.75 ],\n",
       "       [13.76 ,  2.7  ,  1.25 ],\n",
       "       [12.85 ,  2.58 ,  0.87 ],\n",
       "       [14.83 ,  2.17 ,  1.08 ],\n",
       "       [13.56 ,  2.31 ,  0.95 ],\n",
       "       [13.73 ,  2.26 ,  0.78 ],\n",
       "       [13.68 ,  2.36 ,  1.23 ],\n",
       "       [11.46 ,  1.82 ,  0.75 ],\n",
       "       [13.9  ,  2.12 ,  0.91 ],\n",
       "       [14.1  ,  2.3  ,  1.25 ],\n",
       "       [14.1  ,  2.4  ,  1.07 ],\n",
       "       [14.19 ,  2.48 ,  1.23 ],\n",
       "       [13.24 ,  2.29 ,  0.82 ],\n",
       "       [13.83 ,  2.62 ,  1.13 ],\n",
       "       [12.37 ,  1.36 ,  1.05 ],\n",
       "       [13.07 ,  2.1  ,  1.18 ],\n",
       "       [12.08 ,  2.32 ,  1.08 ],\n",
       "       [12.42 ,  2.19 ,  1.06 ],\n",
       "       [13.05 ,  3.22 ,  1.13 ],\n",
       "       [13.64 ,  2.56 ,  0.96 ],\n",
       "       [12.33 ,  1.95 ,  1.06 ],\n",
       "       [13.5  ,  2.62 ,  0.59 ],\n",
       "       [13.49 ,  2.24 ,  0.98 ],\n",
       "       [13.34 ,  2.36 ,  1.02 ],\n",
       "       [12.88 ,  2.4  ,  0.74 ],\n",
       "       [13.2  ,  2.14 ,  1.05 ],\n",
       "       [12.2  ,  2.32 ,  0.66 ],\n",
       "       [12.7  ,  2.36 ,  0.78 ],\n",
       "       [13.36 ,  2.35 ,  0.7  ],\n",
       "       [13.32 ,  2.38 ,  0.55 ],\n",
       "       [14.06 ,  2.61 ,  1.06 ],\n",
       "       [13.05 ,  2.1  ,  0.88 ],\n",
       "       [13.3  ,  2.14 ,  1.02 ],\n",
       "       [13.49 ,  2.19 ,  0.81 ],\n",
       "       [12.72 ,  2.28 ,  0.88 ],\n",
       "       [12.08 ,  2.3  ,  1.07 ],\n",
       "       [12.79 ,  2.48 ,  0.48 ],\n",
       "       [12.85 ,  2.52 ,  1.09 ],\n",
       "       [11.81 ,  2.74 ,  0.95 ],\n",
       "       [12.7  ,  2.4  ,  1.19 ],\n",
       "       [12.96 ,  2.35 ,  0.68 ],\n",
       "       [12.08 ,  2.5  ,  0.93 ],\n",
       "       [12.29 ,  2.21 ,  0.906],\n",
       "       [12.37 ,  1.92 ,  1.12 ],\n",
       "       [13.16 ,  2.15 ,  0.6  ],\n",
       "       [13.11 ,  2.75 ,  0.61 ],\n",
       "       [13.27 ,  2.26 ,  0.59 ],\n",
       "       [13.4  ,  2.48 ,  0.7  ],\n",
       "       [13.05 ,  2.55 ,  1.12 ],\n",
       "       [11.96 ,  2.3  ,  0.99 ],\n",
       "       [12.04 ,  2.38 ,  0.79 ],\n",
       "       [12.93 ,  2.7  ,  0.77 ],\n",
       "       [13.51 ,  2.65 ,  1.1  ],\n",
       "       [12.81 ,  2.4  ,  0.66 ],\n",
       "       [12.07 ,  2.17 ,  0.86 ],\n",
       "       [14.21 ,  2.44 ,  0.87 ],\n",
       "       [12.36 ,  2.38 ,  0.56 ],\n",
       "       [12.69 ,  2.26 ,  0.96 ],\n",
       "       [11.61 ,  2.7  ,  0.96 ],\n",
       "       [13.5  ,  2.61 ,  1.12 ],\n",
       "       [12.08 ,  2.51 ,  1.31 ],\n",
       "       [13.86 ,  2.67 ,  1.36 ],\n",
       "       [13.69 ,  2.54 ,  0.96 ],\n",
       "       [13.03 ,  1.71 ,  1.19 ],\n",
       "       [14.75 ,  2.39 ,  1.25 ],\n",
       "       [12.72 ,  2.2  ,  1.16 ],\n",
       "       [12.   ,  2.42 ,  1.05 ],\n",
       "       [12.   ,  2.   ,  1.38 ],\n",
       "       [13.23 ,  2.28 ,  0.56 ]])"
      ]
     },
     "execution_count": 34,
     "metadata": {},
     "output_type": "execute_result"
    }
   ],
   "source": [
    "X_train"
   ]
  },
  {
   "cell_type": "code",
   "execution_count": 35,
   "metadata": {},
   "outputs": [
    {
     "name": "stderr",
     "output_type": "stream",
     "text": [
      "C:\\Users\\SamuelWork\\Anaconda3\\lib\\site-packages\\sklearn\\linear_model\\logistic.py:432: FutureWarning: Default solver will be changed to 'lbfgs' in 0.22. Specify a solver to silence this warning.\n",
      "  FutureWarning)\n",
      "C:\\Users\\SamuelWork\\Anaconda3\\lib\\site-packages\\sklearn\\linear_model\\logistic.py:469: FutureWarning: Default multi_class will be changed to 'auto' in 0.22. Specify the multi_class option to silence this warning.\n",
      "  \"this warning.\", FutureWarning)\n"
     ]
    },
    {
     "data": {
      "text/plain": [
       "LogisticRegression(C=1.0, class_weight=None, dual=False, fit_intercept=True,\n",
       "                   intercept_scaling=1, l1_ratio=None, max_iter=100,\n",
       "                   multi_class='warn', n_jobs=None, penalty='l2',\n",
       "                   random_state=None, solver='warn', tol=0.0001, verbose=0,\n",
       "                   warm_start=False)"
      ]
     },
     "execution_count": 35,
     "metadata": {},
     "output_type": "execute_result"
    }
   ],
   "source": [
    "lg_reg = linear_model.LogisticRegression()\n",
    "lg_reg.fit(X_train, y_train)"
   ]
  },
  {
   "cell_type": "code",
   "execution_count": 36,
   "metadata": {},
   "outputs": [],
   "source": [
    "y_pred = lg_reg.predict(X_test)"
   ]
  },
  {
   "cell_type": "code",
   "execution_count": 37,
   "metadata": {},
   "outputs": [
    {
     "name": "stdout",
     "output_type": "stream",
     "text": [
      "accuracy: 0.6666666666666666\n"
     ]
    }
   ],
   "source": [
    "acc = accuracy_score(y_test, y_pred)\n",
    "print(f'accuracy: {acc}')"
   ]
  },
  {
   "cell_type": "code",
   "execution_count": 38,
   "metadata": {},
   "outputs": [],
   "source": [
    "boston = datasets.load_boston()\n",
    "boston_d = boston.data[:, 0]\n",
    "boston_fn = boston.feature_names[0]\n",
    "boston_t = boston.target"
   ]
  },
  {
   "cell_type": "code",
   "execution_count": 47,
   "metadata": {},
   "outputs": [],
   "source": [
    "X_train, X_test, y_train, y_test = train_test_split(boston_d, boston_t, test_size=0.2, random_state=3)"
   ]
  },
  {
   "cell_type": "code",
   "execution_count": 50,
   "metadata": {},
   "outputs": [
    {
     "name": "stdout",
     "output_type": "stream",
     "text": [
      "mse: 69.4298610659868\n"
     ]
    }
   ],
   "source": [
    "X_train = np.reshape(X_train, (-1, 1))\n",
    "X_test =  np.reshape(X_test, (-1, 1))\n",
    "ln = linear_model.LinearRegression()\n",
    "ln.fit(X_train, y_train)\n",
    "y_pred = ln.predict(X_test)\n",
    "mse = mean_squared_error(y_test, y_pred)\n",
    "print(f'mse: {mse}')"
   ]
  },
  {
   "cell_type": "code",
   "execution_count": 51,
   "metadata": {},
   "outputs": [
    {
     "data": {
      "image/png": "[encoded data removed]",
      "text/plain": [
       "<Figure size 432x288 with 1 Axes>"
      ]
     },
     "metadata": {
      "needs_background": "light"
     },
     "output_type": "display_data"
    }
   ],
   "source": [
    "plt.scatter(X_test, y_test, color='blue')\n",
    "plt.plot(X_test, y_pred)\n",
    "plt.show()"
   ]
  },
  {
   "cell_type": "code",
   "execution_count": null,
   "metadata": {},
   "outputs": [],
   "source": []
  }
 ],
 "metadata": {
  "kernelspec": {
   "display_name": "Python 3",
   "language": "python",
   "name": "python3"
  },
  "language_info": {
   "codemirror_mode": {
    "name": "ipython",
    "version": 3
   },
   "file_extension": ".py",
   "mimetype": "text/x-python",
   "name": "python",
   "nbconvert_exporter": "python",
   "pygments_lexer": "ipython3",
   "version": "3.7.4"
  }
 },
 "nbformat": 4,
 "nbformat_minor": 2
}
