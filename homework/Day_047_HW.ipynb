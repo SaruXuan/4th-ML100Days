{
 "cells": [
  {
   "cell_type": "markdown",
   "metadata": {},
   "source": [
    "## [作業重點]\n",
    "了解如何使用 Sklearn 中的 hyper-parameter search 找出最佳的超參數"
   ]
  },
  {
   "cell_type": "markdown",
   "metadata": {},
   "source": [
    "### 作業\n",
    "請使用不同的資料集，並使用 hyper-parameter search 的方式，看能不能找出最佳的超參數組合"
   ]
  },
  {
   "cell_type": "code",
   "execution_count": 1,
   "metadata": {},
   "outputs": [
    {
     "name": "stderr",
     "output_type": "stream",
     "text": [
      "C:\\Users\\SamuelWork\\Anaconda3\\lib\\importlib\\_bootstrap.py:219: RuntimeWarning: numpy.ufunc size changed, may indicate binary incompatibility. Expected 192 from C header, got 216 from PyObject\n",
      "  return f(*args, **kwds)\n"
     ]
    }
   ],
   "source": [
    "from sklearn import datasets, metrics\n",
    "from sklearn.model_selection import train_test_split, GridSearchCV\n",
    "from sklearn.ensemble import GradientBoostingClassifier\n",
    "import matplotlib.pyplot as plt "
   ]
  },
  {
   "cell_type": "code",
   "execution_count": 7,
   "metadata": {},
   "outputs": [],
   "source": [
    "digits = datasets.load_digits()\n",
    "x_train, x_test, y_train, y_test = train_test_split(digits.data, digits.target, test_size=0.25, random_state=32)"
   ]
  },
  {
   "cell_type": "code",
   "execution_count": 11,
   "metadata": {},
   "outputs": [
    {
     "name": "stdout",
     "output_type": "stream",
     "text": [
      "confusion matrix:\n",
      " [[41  0  0  0  0  1  0  0  0  1]\n",
      " [ 0 43  1  0  0  0  0  0  0  0]\n",
      " [ 0  0 38  0  0  0  0  0  1  0]\n",
      " [ 0  0  0 66  0  0  0  0  0  0]\n",
      " [ 0  0  0  0 43  0  0  0  0  0]\n",
      " [ 0  0  0  0  0 42  0  0  1  1]\n",
      " [ 0  0  0  0  0  0 45  0  2  0]\n",
      " [ 1  0  0  0  1  0  0 45  0  0]\n",
      " [ 0  0  0  0  0  0  0  0 33  0]\n",
      " [ 0  0  0  0  0  0  0  0  0 44]]\n",
      "precision:\n",
      " 0.9752979994891018\n",
      "recall:\n",
      " 0.9774559145291455\n",
      "F1_score:\n",
      " 0.9758750252109456\n"
     ]
    }
   ],
   "source": [
    "#default parameters\n",
    "gbc = GradientBoostingClassifier()\n",
    "gbc.fit(x_train, y_train)\n",
    "y_pred = gbc.predict(x_test)\n",
    "cfs_matrix = metrics.confusion_matrix(y_test, y_pred)\n",
    "precision = metrics.precision_score(y_test, y_pred, average='macro')\n",
    "recall = metrics.recall_score(y_test, y_pred, average='macro')\n",
    "F1_score = metrics.f1_score(y_test, y_pred, average='macro')\n",
    "print('confusion matrix:\\n', cfs_matrix)\n",
    "print('precision:\\n', precision)\n",
    "print('recall:\\n', recall)\n",
    "print('F1_score:\\n', F1_score)"
   ]
  },
  {
   "cell_type": "code",
   "execution_count": 15,
   "metadata": {},
   "outputs": [
    {
     "name": "stderr",
     "output_type": "stream",
     "text": [
      "C:\\Users\\SamuelWork\\Anaconda3\\lib\\site-packages\\sklearn\\model_selection\\_split.py:1978: FutureWarning: The default value of cv will change from 3 to 5 in version 0.22. Specify it explicitly to silence this warning.\n",
      "  warnings.warn(CV_WARNING, FutureWarning)\n"
     ]
    }
   ],
   "source": [
    "n_estimators = [10, 200, 500]\n",
    "max_depth = [1, 3, 5]\n",
    "para_grid = {\n",
    "    'n_estimators': n_estimators,\n",
    "    'max_depth': max_depth\n",
    "}\n",
    "grid_search = GridSearchCV(gbc, para_grid, n_jobs=-1, scoring='f1_micro')\n",
    "grid_result = grid_search.fit(x_train, y_train)"
   ]
  },
  {
   "cell_type": "code",
   "execution_count": 16,
   "metadata": {},
   "outputs": [
    {
     "name": "stdout",
     "output_type": "stream",
     "text": [
      "Best Accuracy: 0.942094 using {'max_depth': 3, 'n_estimators': 500}\n"
     ]
    }
   ],
   "source": [
    "print(\"Best Accuracy: %f using %s\" % (grid_result.best_score_, grid_result.best_params_))"
   ]
  },
  {
   "cell_type": "code",
   "execution_count": 18,
   "metadata": {},
   "outputs": [
    {
     "data": {
      "text/plain": [
       "GradientBoostingClassifier(criterion='friedman_mse', init=None,\n",
       "                           learning_rate=0.1, loss='deviance', max_depth=3,\n",
       "                           max_features=None, max_leaf_nodes=None,\n",
       "                           min_impurity_decrease=0.0, min_impurity_split=None,\n",
       "                           min_samples_leaf=1, min_samples_split=2,\n",
       "                           min_weight_fraction_leaf=0.0, n_estimators=500,\n",
       "                           n_iter_no_change=None, presort='auto',\n",
       "                           random_state=None, subsample=1.0, tol=0.0001,\n",
       "                           validation_fraction=0.1, verbose=0,\n",
       "                           warm_start=False)"
      ]
     },
     "execution_count": 18,
     "metadata": {},
     "output_type": "execute_result"
    }
   ],
   "source": [
    "gbc_best = GradientBoostingClassifier(max_depth=grid_result.best_params_['max_depth'], n_estimators=grid_result.best_params_['n_estimators'])\n",
    "gbc_best.fit(x_train, y_train)"
   ]
  },
  {
   "cell_type": "code",
   "execution_count": 21,
   "metadata": {},
   "outputs": [],
   "source": [
    "y_pred_best = gbc_best.predict(x_test)\n",
    "cfs_matrix = metrics.confusion_matrix(y_test, y_pred_best)\n",
    "precision = metrics.precision_score(y_test, y_pred_best, average='macro')\n",
    "recall = metrics.recall_score(y_test, y_pred_best, average='macro')\n",
    "F1_score = metrics.f1_score(y_test, y_pred_best, average='macro')"
   ]
  },
  {
   "cell_type": "code",
   "execution_count": 22,
   "metadata": {},
   "outputs": [
    {
     "name": "stdout",
     "output_type": "stream",
     "text": [
      "confusion matrix:\n",
      " [[41  0  0  0  0  1  0  0  0  1]\n",
      " [ 0 43  1  0  0  0  0  0  0  0]\n",
      " [ 0  0 38  0  0  0  0  0  1  0]\n",
      " [ 0  0  0 66  0  0  0  0  0  0]\n",
      " [ 0  0  0  0 42  0  0  1  0  0]\n",
      " [ 0  0  0  0  0 43  0  0  0  1]\n",
      " [ 0  0  0  0  0  0 46  0  1  0]\n",
      " [ 1  0  0  0  1  0  0 45  0  0]\n",
      " [ 0  0  0  0  0  0  0  0 33  0]\n",
      " [ 0  0  0  0  0  0  0  0  0 44]]\n",
      "precision:\n",
      " 0.9782206115421485\n",
      "recall:\n",
      " 0.9795307199809923\n",
      "F1_score:\n",
      " 0.9786942777541314\n"
     ]
    }
   ],
   "source": [
    "print('confusion matrix:\\n', cfs_matrix)\n",
    "print('precision:\\n', precision)\n",
    "print('recall:\\n', recall)\n",
    "print('F1_score:\\n', F1_score)"
   ]
  },
  {
   "cell_type": "code",
   "execution_count": null,
   "metadata": {},
   "outputs": [],
   "source": []
  }
 ],
 "metadata": {
  "kernelspec": {
   "display_name": "Python 3",
   "language": "python",
   "name": "python3"
  },
  "language_info": {
   "codemirror_mode": {
    "name": "ipython",
    "version": 3
   },
   "file_extension": ".py",
   "mimetype": "text/x-python",
   "name": "python",
   "nbconvert_exporter": "python",
   "pygments_lexer": "ipython3",
   "version": "3.7.4"
  }
 },
 "nbformat": 4,
 "nbformat_minor": 2
}
