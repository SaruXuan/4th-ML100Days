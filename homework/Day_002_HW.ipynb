{
 "cells": [
  {
   "cell_type": "markdown",
   "metadata": {},
   "source": [
    "## [作業目標]\n",
    "了解機器學習適合應用的領域與範疇。"
   ]
  },
  {
   "cell_type": "markdown",
   "metadata": {},
   "source": [
    "## [作業重點]\n",
    "透過瞭解機器學習的運作方式，找出非常適用機器學習應用的領域及其原因"
   ]
  },
  {
   "cell_type": "markdown",
   "metadata": {},
   "source": [
    "## 作業\n",
    "請找出一個你認為機器學習可以發光發熱的領域並闡述原因? "
   ]
  },
  {
   "cell_type": "code",
   "execution_count": null,
   "metadata": {},
   "outputs": [],
   "source": [
    "   太空、天文相關領域可以使用機器學習來探索許多人類未知的部分。舉例來說，利用機器學習來辨識經由克卜勒望遠鏡所觀察到的亮度曲線是否為行星，\n",
    "    以往用人為辨識的方式比較緩慢且不精準，現在如果加入機器學習可以有效辨識出遠處星系的行星是否真的存在。其他太空領域也非常適合機器學習，\n",
    "    像是登陸小艇遇到人類無法預測的狀況，若有大量的data進行模擬、建立應對的model，或許可以在人對機器發出command前，機器就知道最適合的\n",
    "    應對是什麼，進而避免機器被破壞的可能性。\n",
    "    參考資料：https://cnews.com.tw/0021802060a02/\n",
    "             "
   ]
  }
 ],
 "metadata": {
  "kernelspec": {
   "display_name": "Python 3",
   "language": "python",
   "name": "python3"
  },
  "language_info": {
   "codemirror_mode": {
    "name": "ipython",
    "version": 3
   },
   "file_extension": ".py",
   "mimetype": "text/x-python",
   "name": "python",
   "nbconvert_exporter": "python",
   "pygments_lexer": "ipython3",
   "version": "3.7.4"
  }
 },
 "nbformat": 4,
 "nbformat_minor": 2
}
