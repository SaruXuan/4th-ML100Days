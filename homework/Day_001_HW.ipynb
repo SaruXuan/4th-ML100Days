{
 "cells": [
  {
   "cell_type": "markdown",
   "metadata": {},
   "source": [
    "## 練習時間\n",
    "#### 請寫一個函式用來計算 Mean Square Error\n",
    "$ MSE = \\frac{1}{n}\\sum_{i=1}^{n}{(Y_i - \\hat{Y}_i)^2} $\n",
    "\n",
    "### Hint: [如何取平方](https://googoodesign.gitbooks.io/-ezpython/unit-1.html)"
   ]
  },
  {
   "cell_type": "markdown",
   "metadata": {},
   "source": [
    "# [作業目標]\n",
    "- 仿造範例的MAE函數, 自己寫一個MSE函數(參考上面公式)"
   ]
  },
  {
   "cell_type": "markdown",
   "metadata": {},
   "source": [
    "# [作業重點]\n",
    "- 注意程式的縮排\n",
    "- 是否能將數學公式, 轉換為 Python 的函式組合? (In[2], Out[2])"
   ]
  },
  {
   "cell_type": "code",
<<<<<<< HEAD
   "execution_count": 2,
   "metadata": {},
=======
   "execution_count": null,
   "metadata": {
    "collapsed": true
   },
>>>>>>> b3598b4693c7a300224bc854226eb945263b4cc5
   "outputs": [],
   "source": [
    "# 載入基礎套件與代稱\n",
    "import numpy as np\n",
    "import matplotlib.pyplot as plt"
   ]
  },
  {
   "cell_type": "code",
<<<<<<< HEAD
   "execution_count": 7,
   "metadata": {},
=======
   "execution_count": null,
   "metadata": {
    "collapsed": true
   },
>>>>>>> b3598b4693c7a300224bc854226eb945263b4cc5
   "outputs": [],
   "source": [
    "def mean_absolute_error(y, yp):\n",
    "    \"\"\"\n",
    "    計算 MAE\n",
    "    Args:\n",
    "        - y: 實際值\n",
    "        - yp: 預測值\n",
    "    Return:\n",
    "        - mae: MAE\n",
    "    \"\"\"\n",
    "    mae = MAE = sum(abs(y - yp)) / len(y)\n",
    "    return mae\n",
    "\n",
    "# 定義 mean_squared_error 這個函數, 計算並傳回 MSE\n",
<<<<<<< HEAD
    "def mean_squared_error(y, yp):\n",
    "    \"\"\"\n",
    "    計算MSE\n",
    "    Args:\n",
    "        - y: 實際值\n",
    "        - yp: 預測值\n",
    "    Return:\n",
    "        -mse: MSE\n",
    "    \"\"\"\n",
    "    mse = MSE = sum((y - yp)**2)\n",
    "    return mse"
=======
    "def mean_squared_error():\n",
    "    \"\"\"\n",
    "    請完成這個 Function 後往下執行\n",
    "    \"\"\""
>>>>>>> b3598b4693c7a300224bc854226eb945263b4cc5
   ]
  },
  {
   "cell_type": "code",
<<<<<<< HEAD
   "execution_count": 4,
   "metadata": {},
   "outputs": [
    {
     "data": {
      "image/png": "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\n",
      "text/plain": [
       "<Figure size 432x288 with 1 Axes>"
      ]
     },
     "metadata": {
      "needs_background": "light"
     },
     "output_type": "display_data"
    }
   ],
=======
   "execution_count": null,
   "metadata": {
    "collapsed": true
   },
   "outputs": [],
>>>>>>> b3598b4693c7a300224bc854226eb945263b4cc5
   "source": [
    "# 與範例相同, 不另外解說\n",
    "w = 3\n",
    "b = 0.5\n",
    "x_lin = np.linspace(0, 100, 101)\n",
    "y = (x_lin + np.random.randn(101) * 5) * w + b\n",
    "\n",
    "plt.plot(x_lin, y, 'b.', label = 'data points')\n",
    "plt.title(\"Assume we have data points\")\n",
    "plt.legend(loc = 2)\n",
    "plt.show()"
   ]
  },
  {
   "cell_type": "code",
<<<<<<< HEAD
   "execution_count": 5,
   "metadata": {},
   "outputs": [
    {
     "data": {
      "image/png": "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\n",
      "text/plain": [
       "<Figure size 432x288 with 1 Axes>"
      ]
     },
     "metadata": {
      "needs_background": "light"
     },
     "output_type": "display_data"
    }
   ],
=======
   "execution_count": null,
   "metadata": {
    "collapsed": true
   },
   "outputs": [],
>>>>>>> b3598b4693c7a300224bc854226eb945263b4cc5
   "source": [
    "# 與範例相同, 不另外解說\n",
    "y_hat = x_lin * w + b\n",
    "plt.plot(x_lin, y, 'b.', label = 'data')\n",
    "plt.plot(x_lin, y_hat, 'r-', label = 'prediction')\n",
    "plt.title(\"Assume we have data points (And the prediction)\")\n",
    "plt.legend(loc = 2)\n",
    "plt.show()"
   ]
  },
  {
   "cell_type": "code",
<<<<<<< HEAD
   "execution_count": 8,
   "metadata": {},
   "outputs": [
    {
     "name": "stdout",
     "output_type": "stream",
     "text": [
      "The Mean squared error is 26279.012\n",
      "The Mean absolute error is 12.871\n"
     ]
    }
   ],
=======
   "execution_count": null,
   "metadata": {
    "collapsed": true
   },
   "outputs": [],
>>>>>>> b3598b4693c7a300224bc854226eb945263b4cc5
   "source": [
    "# 執行 Function, 確認有沒有正常執行\n",
    "MSE = mean_squared_error(y, y_hat)\n",
    "MAE = mean_absolute_error(y, y_hat)\n",
    "print(\"The Mean squared error is %.3f\" % (MSE))\n",
    "print(\"The Mean absolute error is %.3f\" % (MAE))"
   ]
  },
  {
   "cell_type": "markdown",
   "metadata": {},
   "source": [
    "# [作業2]\n",
    "\n",
    "請上 Kaggle, 在 Competitions 或 Dataset 中找一組競賽或資料並寫下：\n",
    "\n",
<<<<<<< HEAD
    "選擇competition: Digit recognizer\n",
    "URL: https://www.kaggle.com/c/digit-recognizer/data\n",
    "\n",
    "1. 你選的這組資料為何重要\n",
    "    手寫資料轉成數位檔在現今世代越來越顯重要，利用此組dataset可以協助訓練digit recognizer model。\n",
    "\n",
    "2. 資料從何而來 (tips: 譬如提供者是誰、以什麼方式蒐集)\n",
    "    此dataset我們稱為MNIST database，是來自NIST(國家標準暨技術研究院)special database 3(SD-3) 和 special database 1(SD-1)，其中SD-3是由一家公司的員工所手寫，較為工整清晰，而SD-1則是由中學生所手寫，因此比較沒那麼清楚。\n",
    "\n",
    "3. 蒐集而來的資料型態為何\n",
    "    此dataset把圖片這種非結構化的資料經過處理後成為一個0,1構成的二維矩陣，變成結構化資料。\n",
    "\n",
    "4. 這組資料想解決的問題如何評估\n",
    "    會選擇使用深度學習來訓練模型，其中loss function 採用適合分類問題的cross-entropy，學習的方式採用adagrad來快速訓練出模型。\n",
=======
    "1. 你選的這組資料為何重要\n",
    "\n",
    "2. 資料從何而來 (tips: 譬如提供者是誰、以什麼方式蒐集)\n",
    "\n",
    "3. 蒐集而來的資料型態為何\n",
    "\n",
    "4. 這組資料想解決的問題如何評估\n",
>>>>>>> b3598b4693c7a300224bc854226eb945263b4cc5
    "\n",
    "# [作業3]\n",
    "\n",
    "想像你經營一個自由載客車隊，你希望能透過數據分析以提升業績，請你思考並描述你如何規劃整體的分析/解決方案：\n",
    "\n",
    "1. 核心問題為何 (tips：如何定義 「提升業績 & 你的假設」)\n",
<<<<<<< HEAD
    "    自由載客所花之最大的成本為等待時間，因為等待時間的收入為零但時間和油錢卻持續消耗。這裡我們假設每趟賺的收入油錢有個正比的線性關係，因此會focus在如何盡量縮短等待時間，這邊我們等待時間定義為在某捷運站靜止等待的時間。期待可以使用這些資訊來告訴司機到哪裡載客最有效率。\n",
    "\n",
    "2. 資料從何而來 (tips：哪些資料可能會對你想問的問題產生影響 & 資料如何蒐集)\n",
    "    需要收集的資料主要有捷運站、時段、等待時間、等待後下一趟的收入。捷運站、時段和等待時間可以用GPS的位置和時間的log，當到達捷運站附近載客排隊處時即開始計算等待時間，收入則是由車內的pos機記錄下來。\n",
    "\n",
    "3. 蒐集而來的資料型態為何\n",
    "    結構化的資料像是等待時間和等待後下一趟的收入，非結構化的資料則為捷運站和時段。\n",
    "\n",
    "4. 你要回答的問題，其如何評估 (tips：你的假設如何驗證)\n",
    "    因為我們期待等待時間能最小，且收入能最大，所以我們在這裡定義一個載客CP值：等待後下一趟的收入(NTD) / 等待時間(s)\n",
    "    作為判斷的參數主要為捷運站跟時段，這邊會有個二維陣列列出所有捷運站和時段。\n",
    "    為避免CP值為無限大在這邊我們定義期待的等待時間為1秒。\n",
    "    而最後判斷CP值的方式為\n",
    "    等待後下一趟的收入(NTD) / (實際等待時間(s) - 1)\n",
    "    而在某時段CP值最高即為最值得等待載客的捷運站"
=======
    "\n",
    "2. 資料從何而來 (tips：哪些資料可能會對你想問的問題產生影響 & 資料如何蒐集)\n",
    "\n",
    "3. 蒐集而來的資料型態為何\n",
    "\n",
    "4. 你要回答的問題，其如何評估 (tips：你的假設如何驗證)"
>>>>>>> b3598b4693c7a300224bc854226eb945263b4cc5
   ]
  }
 ],
 "metadata": {
  "anaconda-cloud": {},
  "kernelspec": {
   "display_name": "Python 3",
   "language": "python",
   "name": "python3"
  },
  "language_info": {
   "codemirror_mode": {
    "name": "ipython",
    "version": 3
   },
   "file_extension": ".py",
   "mimetype": "text/x-python",
   "name": "python",
   "nbconvert_exporter": "python",
   "pygments_lexer": "ipython3",
<<<<<<< HEAD
   "version": "3.7.4"
=======
   "version": "3.7.0"
>>>>>>> b3598b4693c7a300224bc854226eb945263b4cc5
  }
 },
 "nbformat": 4,
 "nbformat_minor": 1
}
